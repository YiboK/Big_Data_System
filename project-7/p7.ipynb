{
 "cells": [
  {
   "cell_type": "code",
   "execution_count": 1,
   "id": "4100c153-5f31-481f-8c49-5deccee2498d",
   "metadata": {},
   "outputs": [],
   "source": [
    "from google.cloud import bigquery\n",
    "bq = bigquery.Client(project=\"cs639-376022\")"
   ]
  },
  {
   "cell_type": "markdown",
   "id": "bb128484-aeb3-44c1-adfe-1b043634bf4c",
   "metadata": {},
   "source": [
    "# Part 1: County Data (Public Dataset)"
   ]
  },
  {
   "cell_type": "code",
   "execution_count": 2,
   "id": "e80e6bcb-1c34-4e22-b383-e7861de314b0",
   "metadata": {},
   "outputs": [
    {
     "data": {
      "text/plain": [
       "'55025'"
      ]
     },
     "execution_count": 2,
     "metadata": {},
     "output_type": "execute_result"
    }
   ],
   "source": [
    "#q1\n",
    "q1 = bq.query(\"\"\"\n",
    "SELECT geo_id\n",
    "FROM bigquery-public-data.geo_us_boundaries.counties\n",
    "WHERE county_name = 'Dane'\n",
    "\"\"\", job_config = bigquery.QueryJobConfig(use_query_cache=False))\n",
    "q1.to_dataframe().loc[0, 'geo_id']"
   ]
  },
  {
   "cell_type": "code",
   "execution_count": 3,
   "id": "2a3e0401-34e7-48b7-bc9d-c3791a2a3b36",
   "metadata": {},
   "outputs": [
    {
     "data": {
      "text/plain": [
       "{'48': 254, '13': 159, '51': 133, '21': 120, '29': 115}"
      ]
     },
     "execution_count": 3,
     "metadata": {},
     "output_type": "execute_result"
    }
   ],
   "source": [
    "#q2\n",
    "result = {}\n",
    "q2 = bq.query(\"\"\"\n",
    "SELECT state_fips_code, COUNT(*) as count\n",
    "FROM bigquery-public-data.geo_us_boundaries.counties\n",
    "GROUP BY state_fips_code\n",
    "ORDER BY count DESC\n",
    "LIMIT 5\n",
    "\"\"\", job_config = bigquery.QueryJobConfig(use_query_cache=False))\n",
    "df = q2.to_dataframe()\n",
    "for row in df.iterrows():\n",
    "    row = row[1]\n",
    "    if row[\"state_fips_code\"] not in result:\n",
    "        result[row[\"state_fips_code\"]] = row['count']\n",
    "result"
   ]
  },
  {
   "cell_type": "code",
   "execution_count": 4,
   "id": "b9586c3e-f66f-4d1f-a10a-b8774b61b351",
   "metadata": {},
   "outputs": [
    {
     "data": {
      "text/plain": [
       "{'q1': 4.76837158203125e-05, 'q2': 4.76837158203125e-05}"
      ]
     },
     "execution_count": 4,
     "metadata": {},
     "output_type": "execute_result"
    }
   ],
   "source": [
    "#q3\n",
    "{'q1': 5 * (q1.total_bytes_billed /1024**4), 'q2': 5 * (q2.total_bytes_billed /1024**4)}"
   ]
  },
  {
   "cell_type": "markdown",
   "id": "32e97cd8-34da-49f0-9511-b971b512e899",
   "metadata": {},
   "source": [
    "# Part 2: HDMA Data (Parquet in GCS)"
   ]
  },
  {
   "cell_type": "code",
   "execution_count": 5,
   "id": "b63c0f8f-abb6-4a43-852e-4f19d68f940a",
   "metadata": {},
   "outputs": [
    {
     "data": {
      "text/plain": [
       "Dataset(DatasetReference('cs639-376022', 'p7'))"
      ]
     },
     "execution_count": 5,
     "metadata": {},
     "output_type": "execute_result"
    }
   ],
   "source": [
    "dataset = bigquery.Dataset(\"cs639-376022.p7\")\n",
    "bq.create_dataset(dataset, exists_ok=True)"
   ]
  },
  {
   "cell_type": "code",
   "execution_count": 6,
   "id": "70d2a2f6-07c7-4fab-8028-2077578e26cb",
   "metadata": {},
   "outputs": [
    {
     "data": {
      "text/plain": [
       "LoadJob<project=cs639-376022, location=US, id=4c0dd55f-69ef-4b6e-971c-7be3379c5b26>"
      ]
     },
     "execution_count": 6,
     "metadata": {},
     "output_type": "execute_result"
    }
   ],
   "source": [
    "config = bigquery.LoadJobConfig(source_format=\"PARQUET\", write_disposition=\"WRITE_TRUNCATE\")\n",
    "job = bq.load_table_from_uri([\"gs://ykong/hdma-wi-2021.parquet\"],\n",
    "                             \"cs639-376022.p7.hdma\", job_config=config)\n",
    "job.result()"
   ]
  },
  {
   "cell_type": "code",
   "execution_count": 7,
   "id": "192ede55-eac8-4383-9487-6cd385df06d7",
   "metadata": {},
   "outputs": [
    {
     "data": {
      "text/plain": [
       "['p7']"
      ]
     },
     "execution_count": 7,
     "metadata": {},
     "output_type": "execute_result"
    }
   ],
   "source": [
    "#q4\n",
    "[ds.dataset_id for ds in bq.list_datasets(\"cs639-376022\")]"
   ]
  },
  {
   "cell_type": "code",
   "execution_count": 8,
   "id": "0c3f016f-eb60-4ee0-9d3b-4492ab8227e6",
   "metadata": {},
   "outputs": [
    {
     "data": {
      "text/plain": [
       "{'Milwaukee': 46570,\n",
       " 'Dane': 38557,\n",
       " 'Waukesha': 34159,\n",
       " 'Brown': 15615,\n",
       " 'Racine': 13007,\n",
       " 'Outagamie': 11523,\n",
       " 'Kenosha': 10744,\n",
       " 'Washington': 10726,\n",
       " 'Rock': 9834,\n",
       " 'Winnebago': 9310}"
      ]
     },
     "execution_count": 8,
     "metadata": {},
     "output_type": "execute_result"
    }
   ],
   "source": [
    "#q5\n",
    "result = {}\n",
    "q = bq.query(\"\"\"\n",
    "SELECT county_name, COUNT(*) as count\n",
    "FROM cs639-376022.p7.hdma\n",
    "INNER JOIN bigquery-public-data.geo_us_boundaries.counties on county_code = county_fips_code\n",
    "GROUP BY county_name\n",
    "ORDER BY count DESC\n",
    "LIMIT 10\n",
    "\"\"\")\n",
    "df = q.to_dataframe()\n",
    "for row in df.iterrows():\n",
    "    row = row[1]\n",
    "    if row[\"county_name\"] not in result:\n",
    "        result[row[\"county_name\"]] = row['count']\n",
    "result"
   ]
  },
  {
   "cell_type": "markdown",
   "id": "f29f9e35-9e63-4d92-b336-1be22fb62cde",
   "metadata": {},
   "source": [
    "# Part 3: Application Data (Google Sheet Linked to Form)"
   ]
  },
  {
   "cell_type": "code",
   "execution_count": 9,
   "id": "c601cc54-0c01-420a-90ea-b5a705f32bff",
   "metadata": {},
   "outputs": [],
   "source": [
    "url = \"https://drive.google.com/open?id=1e2qLPyxZ7s5ibMyEg7bxX2wWYAQD2ROAUcZuv8fqhnA\"\n",
    "\n",
    "external_config = bigquery.ExternalConfig(\"GOOGLE_SHEETS\")\n",
    "external_config.source_uris = [\"https://drive.google.com/open?id=1e2qLPyxZ7s5ibMyEg7bxX2wWYAQD2ROAUcZuv8fqhnA\"]\n",
    "external_config.options.skip_leading_rows = 1\n",
    "external_config.autodetect = True\n",
    "\n",
    "table = bigquery.Table(dataset.table(\"app\"))\n",
    "table.external_data_configuration = external_config\n",
    "\n",
    "table = bq.create_table(table, exists_ok=True)"
   ]
  },
  {
   "cell_type": "code",
   "execution_count": 10,
   "id": "fe1c74b8-6e6d-4eb0-a0f9-c02c0df7ffde",
   "metadata": {},
   "outputs": [
    {
     "data": {
      "text/plain": [
       "3"
      ]
     },
     "execution_count": 10,
     "metadata": {},
     "output_type": "execute_result"
    }
   ],
   "source": [
    "#q6\n",
    "q = bq.query(\"\"\"\n",
    "SELECT COUNT(*) as count\n",
    "FROM cs639-376022.p7.app\n",
    "WHERE income = 125000\n",
    "\"\"\")\n",
    "q.to_dataframe().loc[0, 'count']"
   ]
  },
  {
   "cell_type": "code",
   "execution_count": 11,
   "id": "176b60c4-0e81-4d74-a1e3-6e0672603ae3",
   "metadata": {},
   "outputs": [
    {
     "data": {
      "text/plain": [
       "{'Milwaukee': 1,\n",
       " 'Dane': 22,\n",
       " 'Brown': 3,\n",
       " 'Waukesha': 1,\n",
       " 'Bayfield': 2,\n",
       " 'Door': 4,\n",
       " 'La Crosse': 1,\n",
       " 'Sheboygan': 1,\n",
       " 'Monroe': 1,\n",
       " 'Adams': 1,\n",
       " 'Walworth': 2,\n",
       " 'Sauk': 1,\n",
       " 'Oneida': 1,\n",
       " 'Columbia': 1,\n",
       " 'Jefferson': 2,\n",
       " 'Barron': 1,\n",
       " 'Green Lake': 1,\n",
       " 'Kewaunee': 1}"
      ]
     },
     "execution_count": 11,
     "metadata": {},
     "output_type": "execute_result"
    }
   ],
   "source": [
    "#q7\n",
    "result = {}\n",
    "q = bq.query(\"\"\"\n",
    "CREATE OR REPLACE TABLE cs639-376022.p7.wi\n",
    "AS\n",
    "\n",
    "SELECT county_name, county_geom\n",
    "FROM bigquery-public-data.geo_us_boundaries.counties\n",
    "WHERE state_fips_code = '55' -- is WI\n",
    "\"\"\")\n",
    "q.to_dataframe()\n",
    "\n",
    "q = bq.query(\"\"\"\n",
    "CREATE OR REPLACE TABLE cs639-376022.p7.position\n",
    "\n",
    "AS\n",
    "\n",
    "SELECT *, ST_GEOGPOINT(longitude, latitude) AS loc\n",
    "FROM cs639-376022.p7.app\n",
    "\"\"\")\n",
    "q.to_dataframe()\n",
    "\n",
    "q = bq.query(\"\"\"\n",
    "SELECT county_name, COUNT(*) as count\n",
    "FROM cs639-376022.p7.position, cs639-376022.p7.wi\n",
    "WHERE ST_WITHIN(position.loc, wi.county_geom)\n",
    "GROUP BY county_name\n",
    "\"\"\")\n",
    "\n",
    "df = q.to_dataframe()\n",
    "for row in df.iterrows():\n",
    "    row = row[1]\n",
    "    if row[\"county_name\"] not in result:\n",
    "        result[row[\"county_name\"]] = row['count']\n",
    "result"
   ]
  },
  {
   "cell_type": "markdown",
   "id": "2d2d9715-7be1-4587-bd43-2501b27d26c3",
   "metadata": {},
   "source": [
    "# Part 4: Machine Learning"
   ]
  },
  {
   "cell_type": "code",
   "execution_count": 12,
   "id": "0aebe449-0688-4056-99ba-c3f719bf560d",
   "metadata": {},
   "outputs": [],
   "source": [
    "%load_ext google.cloud.bigquery"
   ]
  },
  {
   "cell_type": "code",
   "execution_count": 13,
   "id": "1c35e8aa-efbe-4e24-a3e4-7cbd46643932",
   "metadata": {},
   "outputs": [
    {
     "data": {
      "application/vnd.jupyter.widget-view+json": {
       "model_id": "994ea9ff683341118dea80038c263d14",
       "version_major": 2,
       "version_minor": 0
      },
      "text/plain": [
       "Query is running:   0%|          |"
      ]
     },
     "metadata": {},
     "output_type": "display_data"
    },
    {
     "data": {
      "text/html": [
       "<div>\n",
       "<style scoped>\n",
       "    .dataframe tbody tr th:only-of-type {\n",
       "        vertical-align: middle;\n",
       "    }\n",
       "\n",
       "    .dataframe tbody tr th {\n",
       "        vertical-align: top;\n",
       "    }\n",
       "\n",
       "    .dataframe thead th {\n",
       "        text-align: right;\n",
       "    }\n",
       "</style>\n",
       "<table border=\"1\" class=\"dataframe\">\n",
       "  <thead>\n",
       "    <tr style=\"text-align: right;\">\n",
       "      <th></th>\n",
       "    </tr>\n",
       "  </thead>\n",
       "  <tbody>\n",
       "  </tbody>\n",
       "</table>\n",
       "</div>"
      ],
      "text/plain": [
       "Empty DataFrame\n",
       "Columns: []\n",
       "Index: []"
      ]
     },
     "execution_count": 13,
     "metadata": {},
     "output_type": "execute_result"
    }
   ],
   "source": [
    "%%bigquery\n",
    "CREATE OR REPLACE MODEL `cs639-376022.p7.model`\n",
    "OPTIONS(model_type='LINEAR_REG', INPUT_LABEL_COLS=['loan_amount'])\n",
    "\n",
    "AS\n",
    "\n",
    "SELECT income, loan_term, loan_amount\n",
    "FROM `cs639-376022.p7.hdma`"
   ]
  },
  {
   "cell_type": "code",
   "execution_count": 14,
   "id": "d615a12d-0447-4e8e-b046-128eed52130e",
   "metadata": {},
   "outputs": [
    {
     "data": {
      "text/plain": [
       "0.2916541228802071"
      ]
     },
     "execution_count": 14,
     "metadata": {},
     "output_type": "execute_result"
    }
   ],
   "source": [
    "#q8\n",
    "q = bq.query(\"\"\"\n",
    "SELECT *\n",
    "FROM\n",
    "ML.EVALUATE(\n",
    "    MODEL `cs639-376022.p7.model`,\n",
    "    (\n",
    "        SELECT income, loan_term, loan_amount\n",
    "        FROM `cs639-376022.p7.hdma`\n",
    "    )\n",
    ")\n",
    "\"\"\")\n",
    "q.to_dataframe().iloc[0].at[\"r2_score\"]"
   ]
  },
  {
   "cell_type": "code",
   "execution_count": 15,
   "id": "8eaf002f-d322-47d2-ba77-ef923c048e0b",
   "metadata": {},
   "outputs": [
    {
     "data": {
      "text/plain": [
       "0.8057773037176675"
      ]
     },
     "execution_count": 15,
     "metadata": {},
     "output_type": "execute_result"
    }
   ],
   "source": [
    "#q9\n",
    "q = bq.query(\"\"\"\n",
    "SELECT * FROM\n",
    "ML.WEIGHTS(MODEL `cs639-376022.p7.model`)\n",
    "\"\"\")\n",
    "q.to_dataframe().loc[0,\"weight\"]"
   ]
  },
  {
   "cell_type": "code",
   "execution_count": 16,
   "id": "b45f7808-9789-4ae1-bb9d-c60102a1e894",
   "metadata": {},
   "outputs": [
    {
     "name": "stderr",
     "output_type": "stream",
     "text": [
      "100%|██████████| 1/1 [00:00<00:00, 6978.88it/s]\n"
     ]
    },
    {
     "data": {
      "text/plain": [
       "0.6086956521739131"
      ]
     },
     "execution_count": 16,
     "metadata": {},
     "output_type": "execute_result"
    }
   ],
   "source": [
    "#q10\n",
    "q = bq.query(\"\"\"\n",
    "SELECT *  \n",
    "FROM cs639-376022.p7.app\n",
    "\"\"\")\n",
    "df = q.to_dataframe()\n",
    "df['loan_term'] = 360\n",
    "df.to_gbq(\"cs639-376022.p7.tmp\", if_exists='replace')\n",
    "q = bq.query(\"\"\"\n",
    "SELECT *\n",
    "FROM\n",
    "ML.PREDICT(\n",
    "    MODEL `cs639-376022.p7.model`,\n",
    "    (\n",
    "        SELECT income, loan_term, loan_amount\n",
    "        FROM `cs639-376022.p7.tmp`\n",
    "    )\n",
    ")\n",
    "\"\"\")\n",
    "df = q.to_dataframe()\n",
    "count = 0\n",
    "\n",
    "for row in df.iterrows():\n",
    "    row = row[1]\n",
    "    if row['loan_amount'] > row['predicted_loan_amount']:\n",
    "        count += 1\n",
    "count/df.shape[0]\n"
   ]
  },
  {
   "cell_type": "code",
   "execution_count": null,
   "id": "568f7751-7cb5-4847-a0ed-4124093a9699",
   "metadata": {},
   "outputs": [],
   "source": []
  }
 ],
 "metadata": {
  "kernelspec": {
   "display_name": "Python 3 (ipykernel)",
   "language": "python",
   "name": "python3"
  },
  "language_info": {
   "codemirror_mode": {
    "name": "ipython",
    "version": 3
   },
   "file_extension": ".py",
   "mimetype": "text/x-python",
   "name": "python",
   "nbconvert_exporter": "python",
   "pygments_lexer": "ipython3",
   "version": "3.10.6"
  }
 },
 "nbformat": 4,
 "nbformat_minor": 5
}
