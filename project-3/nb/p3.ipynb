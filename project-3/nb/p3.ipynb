{
 "cells": [
  {
   "cell_type": "markdown",
   "id": "bbe6ccf1-a536-46c5-9f2c-d8d6dd31be00",
   "metadata": {},
   "source": [
    "# Part 1: HDFS Deployment and Data Upload"
   ]
  },
  {
   "cell_type": "code",
   "execution_count": 1,
   "id": "cb0e3131-3c00-4904-bd3a-948562051c41",
   "metadata": {},
   "outputs": [
    {
     "name": "stdout",
     "output_type": "stream",
     "text": [
      "--2023-03-20 20:40:10--  https://pages.cs.wisc.edu/~harter/cs639/data/hdma-wi-2021.csv\n",
      "Resolving pages.cs.wisc.edu (pages.cs.wisc.edu)... 128.105.7.9\n",
      "Connecting to pages.cs.wisc.edu (pages.cs.wisc.edu)|128.105.7.9|:443... connected.\n",
      "HTTP request sent, awaiting response... 200 OK\n",
      "Length: 174944099 (167M) [text/csv]\n",
      "Saving to: ‘hdma-wi-2021.csv’\n",
      "\n",
      "hdma-wi-2021.csv    100%[===================>] 166.84M  87.2MB/s    in 1.9s    \n",
      "\n",
      "2023-03-20 20:40:12 (87.2 MB/s) - ‘hdma-wi-2021.csv’ saved [174944099/174944099]\n",
      "\n"
     ]
    }
   ],
   "source": [
    "!wget https://pages.cs.wisc.edu/~harter/cs639/data/hdma-wi-2021.csv"
   ]
  },
  {
   "cell_type": "code",
   "execution_count": 2,
   "id": "edb9c236-23da-4624-8939-b157b5481b6a",
   "metadata": {},
   "outputs": [],
   "source": [
    "#!hdfs dfs -rm -R hdfs://main:9000/single.csv\n",
    "#!hdfs dfs -rm -R hdfs://main:9000/double.csv\n",
    "!hdfs dfs -D dfs.block.size=1048576 -D dfs.replication=1 -cp hdma-wi-2021.csv hdfs://main:9000/single.csv\n",
    "!hdfs dfs -D dfs.block.size=1048576 -D dfs.replication=2 -cp hdma-wi-2021.csv hdfs://main:9000/double.csv"
   ]
  },
  {
   "cell_type": "code",
   "execution_count": 3,
   "id": "942e341e-6c47-4dc1-8fad-205a3c66db94",
   "metadata": {},
   "outputs": [
    {
     "name": "stdout",
     "output_type": "stream",
     "text": [
      "166.8 M  333.7 M  hdfs://main:9000/double.csv\n",
      "166.8 M  166.8 M  hdfs://main:9000/single.csv\n"
     ]
    }
   ],
   "source": [
    "!hdfs dfs -du -h hdfs://main:9000/"
   ]
  },
  {
   "cell_type": "markdown",
   "id": "c063971c-507d-479b-895d-9ab90a84c966",
   "metadata": {},
   "source": [
    "# Part 2: Block Locations"
   ]
  },
  {
   "cell_type": "code",
   "execution_count": 4,
   "id": "27de7d86-ba32-4b55-b7e9-57abb85c32c9",
   "metadata": {},
   "outputs": [],
   "source": [
    "import requests"
   ]
  },
  {
   "cell_type": "code",
   "execution_count": 5,
   "id": "e6910323-5f1b-4523-bd8d-8c9a9c392dbf",
   "metadata": {},
   "outputs": [],
   "source": [
    "result = {}\n",
    "for i in range(167):\n",
    "    url = \"http://main:9870/webhdfs/v1/single.csv?op=OPEN&offset=\" + str(i * 1048576)\n",
    "    resp = requests.get(url, allow_redirects=False)\n",
    "    offset = resp.headers[\"Location\"].split(\"?\")[0]\n",
    "    if offset not in result.keys():\n",
    "        result[offset] = 1\n",
    "    else:\n",
    "        result[offset] += 1"
   ]
  },
  {
   "cell_type": "code",
   "execution_count": 6,
   "id": "b0e977a8-4521-419c-86cb-0d83bbf0f23a",
   "metadata": {},
   "outputs": [
    {
     "data": {
      "text/plain": [
       "{'http://2d2db9d9de36:9864/webhdfs/v1/single.csv': 77,\n",
       " 'http://9878e36b04c8:9864/webhdfs/v1/single.csv': 90}"
      ]
     },
     "execution_count": 6,
     "metadata": {},
     "output_type": "execute_result"
    }
   ],
   "source": [
    "result"
   ]
  },
  {
   "cell_type": "markdown",
   "id": "c4a62a45-fe2d-4009-8f8c-d0e956b6051f",
   "metadata": {},
   "source": [
    "# Part 3: Reading the Data"
   ]
  },
  {
   "cell_type": "code",
   "execution_count": 7,
   "id": "dcbbdd71-f902-4430-8b25-130d372220e4",
   "metadata": {},
   "outputs": [],
   "source": [
    "import time"
   ]
  },
  {
   "cell_type": "code",
   "execution_count": 8,
   "id": "2cc87383-8a53-44a8-97a6-26da00800c68",
   "metadata": {},
   "outputs": [],
   "source": [
    "import io\n",
    "\n",
    "class hdfsFile(io.RawIOBase):\n",
    "    def __init__(self, path):\n",
    "        self.path = path\n",
    "        self.offset = 0\n",
    "        url = \"http://main:9870/webhdfs/v1/\"+ path + \"?op=GETFILESTATUS\"\n",
    "        resp = requests.get(url, allow_redirects=True)\n",
    "        data = resp.json()\n",
    "        self.length = data['FileStatus']['length']\n",
    "\n",
    "    def readable(self):\n",
    "        return True\n",
    "\n",
    "    def readinto(self, b):\n",
    "        if self.offset >= self.length:\n",
    "            return 0\n",
    "        if self.offset + len(b) < self.length:\n",
    "            length = len(b)\n",
    "        else:\n",
    "            length = self.length - self.offset\n",
    "            \n",
    "        url = f'http://main:9870/webhdfs/v1/{self.path}?op=OPEN&offset={self.offset}&length={length}'\n",
    "        resp = requests.get(url, allow_redirects=True)\n",
    "        self.offset += length\n",
    "        try:\n",
    "            b[0:length] = resp.content\n",
    "        except ValueError:\n",
    "            newline = bytearray('\\n', 'utf-8')\n",
    "            b[0:1] = newline\n",
    "            return 1\n",
    "        return length"
   ]
  },
  {
   "cell_type": "code",
   "execution_count": 9,
   "id": "48521636-36bd-4c69-afd2-1ae13202f45c",
   "metadata": {},
   "outputs": [
    {
     "name": "stdout",
     "output_type": "stream",
     "text": [
      "Counts from single.csv\n",
      "Single Family: 444874\n",
      "Multi Family: 2493\n",
      "Seconds: 27.837336540222168\n"
     ]
    }
   ],
   "source": [
    "time_0 = time.time()\n",
    "n_1 = 0\n",
    "n_2 = 0\n",
    "for line in io.BufferedReader(hdfsFile(\"single.csv\"), buffer_size=262144):\n",
    "    line = str(line, \"utf-8\")\n",
    "    if \"Single Family\" in line:\n",
    "        n_1 += 1\n",
    "    if \"Multifamily\" in line:\n",
    "        n_2 += 1\n",
    "time_1 = time.time()\n",
    "print(\"Counts from single.csv\")\n",
    "print(f'Single Family: {n_1}')\n",
    "print(f'Multi Family: {n_2}')\n",
    "print(f'Seconds: {time_1 - time_0}')"
   ]
  },
  {
   "cell_type": "code",
   "execution_count": 10,
   "id": "f85b326e-f221-41a9-9de3-e9d6e278e787",
   "metadata": {},
   "outputs": [
    {
     "name": "stdout",
     "output_type": "stream",
     "text": [
      "Counts from single.csv\n",
      "Single Family: 444874\n",
      "Multi Family: 2493\n",
      "Seconds: 8.11428427696228\n"
     ]
    }
   ],
   "source": [
    "time_0 = time.time()\n",
    "n_1 = 0\n",
    "n_2 = 0\n",
    "for line in io.BufferedReader(hdfsFile(\"single.csv\"), buffer_size=524288):\n",
    "    line = str(line, \"utf-8\")\n",
    "    if \"Single Family\" in line:\n",
    "        n_1 += 1\n",
    "    if \"Multifamily\" in line:\n",
    "        n_2 += 1\n",
    "time_1 = time.time()\n",
    "print(\"Counts from single.csv\")\n",
    "print(f'Single Family: {n_1}')\n",
    "print(f'Multi Family: {n_2}')\n",
    "print(f'Seconds: {(time_1 - time_0)}')"
   ]
  },
  {
   "cell_type": "markdown",
   "id": "25428183-74e0-48b3-a95c-678205f740fd",
   "metadata": {},
   "source": [
    "# Part 4: Disaster Strikes"
   ]
  },
  {
   "cell_type": "code",
   "execution_count": 14,
   "id": "ab0b008c-d1a3-4e34-be50-c6a2cc7361a8",
   "metadata": {},
   "outputs": [
    {
     "name": "stdout",
     "output_type": "stream",
     "text": [
      "Configured Capacity: 15415644160 (14.36 GB)\n",
      "Present Capacity: 7094927599 (6.61 GB)\n",
      "DFS Remaining: 6837219328 (6.37 GB)\n",
      "DFS Used: 257708271 (245.77 MB)\n",
      "DFS Used%: 3.63%\n",
      "Replicated Blocks:\n",
      "\tUnder replicated blocks: 167\n",
      "\tBlocks with corrupt replicas: 0\n",
      "\tMissing blocks: 90\n",
      "\tMissing blocks (with replication factor 1): 90\n",
      "\tLow redundancy blocks with highest priority to recover: 167\n",
      "\tPending deletion blocks: 0\n",
      "Erasure Coded Block Groups: \n",
      "\tLow redundancy block groups: 0\n",
      "\tBlock groups with corrupt internal blocks: 0\n",
      "\tMissing block groups: 0\n",
      "\tLow redundancy blocks with highest priority to recover: 0\n",
      "\tPending deletion blocks: 0\n",
      "\n",
      "-------------------------------------------------\n",
      "Live datanodes (1):\n",
      "\n",
      "Name: 172.19.0.4:9866 (project-3-kkk-worker-2.cs544net)\n",
      "Hostname: 2d2db9d9de36\n",
      "Decommission Status : Normal\n",
      "Configured Capacity: 15415644160 (14.36 GB)\n",
      "DFS Used: 257708271 (245.77 MB)\n",
      "Non DFS Used: 8303939345 (7.73 GB)\n",
      "DFS Remaining: 6837219328 (6.37 GB)\n",
      "DFS Used%: 1.67%\n",
      "DFS Remaining%: 44.35%\n",
      "Configured Cache Capacity: 0 (0 B)\n",
      "Cache Used: 0 (0 B)\n",
      "Cache Remaining: 0 (0 B)\n",
      "Cache Used%: 100.00%\n",
      "Cache Remaining%: 0.00%\n",
      "Xceivers: 1\n",
      "Last contact: Mon Mar 20 20:46:26 GMT 2023\n",
      "Last Block Report: Mon Mar 20 20:39:26 GMT 2023\n",
      "Num of Blocks: 244\n",
      "\n",
      "\n",
      "Dead datanodes (1):\n",
      "\n",
      "Name: 172.19.0.2:9866 (172.19.0.2)\n",
      "Hostname: 9878e36b04c8\n",
      "Decommission Status : Normal\n",
      "Configured Capacity: 15415644160 (14.36 GB)\n",
      "DFS Used: 271276941 (258.71 MB)\n",
      "Non DFS Used: 8290342003 (7.72 GB)\n",
      "DFS Remaining: 6837248000 (6.37 GB)\n",
      "DFS Used%: 1.76%\n",
      "DFS Remaining%: 44.35%\n",
      "Configured Cache Capacity: 0 (0 B)\n",
      "Cache Used: 0 (0 B)\n",
      "Cache Remaining: 0 (0 B)\n",
      "Cache Used%: 100.00%\n",
      "Cache Remaining%: 0.00%\n",
      "Xceivers: 0\n",
      "Last contact: Mon Mar 20 20:44:50 GMT 2023\n",
      "Last Block Report: Mon Mar 20 20:39:26 GMT 2023\n",
      "Num of Blocks: 0\n",
      "\n",
      "\n"
     ]
    }
   ],
   "source": [
    "!hdfs dfsadmin -fs hdfs://main:9000/ -report"
   ]
  },
  {
   "cell_type": "code",
   "execution_count": 15,
   "id": "a9db942b-b082-48a0-96d6-9861af9180f3",
   "metadata": {},
   "outputs": [
    {
     "name": "stdout",
     "output_type": "stream",
     "text": [
      "Counts from double.csv\n",
      "Single Family: 444874\n",
      "Multi Family: 2493\n"
     ]
    }
   ],
   "source": [
    "n_1 = 0\n",
    "n_2 = 0\n",
    "for line in io.BufferedReader(hdfsFile(\"double.csv\"), buffer_size=524288):\n",
    "    line = str(line, \"utf-8\")\n",
    "    if \"Single Family\" in line:\n",
    "        n_1 += 1\n",
    "    if \"Multifamily\" in line:\n",
    "        n_2 += 1\n",
    "print(\"Counts from double.csv\")\n",
    "print(f'Single Family: {n_1}')\n",
    "print(f'Multi Family: {n_2}')"
   ]
  },
  {
   "cell_type": "code",
   "execution_count": 16,
   "id": "9e9e66c4-000e-4100-99d0-e0e665f1218e",
   "metadata": {},
   "outputs": [
    {
     "name": "stdout",
     "output_type": "stream",
     "text": [
      "Counts from single.csv\n",
      "Single Family: 205723\n",
      "Multi Family: 1004\n"
     ]
    }
   ],
   "source": [
    "n_1 = 0\n",
    "n_2 = 0\n",
    "for line in io.BufferedReader(hdfsFile(\"single.csv\"), buffer_size=524288):\n",
    "    line = str(line, \"utf-8\")\n",
    "    if \"Single Family\" in line:\n",
    "        n_1 += 1\n",
    "    if \"Multifamily\" in line:\n",
    "        n_2 += 1\n",
    "print(\"Counts from single.csv\")\n",
    "print(f'Single Family: {n_1}')\n",
    "print(f'Multi Family: {n_2}')"
   ]
  },
  {
   "cell_type": "code",
   "execution_count": null,
   "id": "57a042c4-53a3-4d98-a291-8f1fe0ff7285",
   "metadata": {},
   "outputs": [],
   "source": []
  }
 ],
 "metadata": {
  "kernelspec": {
   "display_name": "Python 3 (ipykernel)",
   "language": "python",
   "name": "python3"
  },
  "language_info": {
   "codemirror_mode": {
    "name": "ipython",
    "version": 3
   },
   "file_extension": ".py",
   "mimetype": "text/x-python",
   "name": "python",
   "nbconvert_exporter": "python",
   "pygments_lexer": "ipython3",
   "version": "3.10.6"
  }
 },
 "nbformat": 4,
 "nbformat_minor": 5
}
