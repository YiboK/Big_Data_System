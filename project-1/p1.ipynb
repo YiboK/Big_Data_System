{
 "cells": [
  {
   "cell_type": "code",
   "execution_count": 1,
   "id": "10d34089-6584-44bf-987d-4c2a30483641",
   "metadata": {},
   "outputs": [],
   "source": [
    "import pandas as pd\n",
    "import torch\n",
    "from matplotlib.pyplot import *\n",
    "from time import time"
   ]
  },
  {
   "cell_type": "markdown",
   "id": "83cfc6bd-d1df-4b2b-93c7-a6328be3f011",
   "metadata": {},
   "source": [
    "# Part 1: Prediction with Hardcoded Model"
   ]
  },
  {
   "cell_type": "code",
   "execution_count": 2,
   "id": "f16ddb99-48b7-4142-9292-f7533ffc875b",
   "metadata": {},
   "outputs": [],
   "source": [
    "df = pd.read_csv(\"train.csv\")\n",
    "trainY = df.values[:,-1:]\n",
    "trainY = torch.from_numpy(trainY).to(torch.float64)\n",
    "length = len(df.values[1,:])\n",
    "trainX = df.values[:,0:length - 1]\n",
    "trainX = torch.from_numpy(trainX).to(torch.float64)\n",
    "\n",
    "df = pd.read_csv(\"test.csv\")\n",
    "testY = df.values[:,-1:]\n",
    "testY = torch.from_numpy(testY).to(torch.float64)\n",
    "length = len(df.values[1,:])\n",
    "testX = df.values[:,0:length - 1]\n",
    "testX = torch.from_numpy(testX).to(torch.float64)"
   ]
  },
  {
   "cell_type": "code",
   "execution_count": 3,
   "id": "8e6a8e20-f3c9-4c70-8950-a3f362ecc7ed",
   "metadata": {},
   "outputs": [
    {
     "data": {
      "text/plain": [
       "tensor([[0.0040],\n",
       "        [0.0040],\n",
       "        [0.0040],\n",
       "        [0.0040],\n",
       "        [0.0040],\n",
       "        [0.0040],\n",
       "        [0.0300],\n",
       "        [0.0300],\n",
       "        [0.0300],\n",
       "        [0.0300]], dtype=torch.float64)"
      ]
     },
     "execution_count": 3,
     "metadata": {},
     "output_type": "execute_result"
    }
   ],
   "source": [
    "coef = torch.tensor([\n",
    "        [0.0040],\n",
    "        [0.0040],\n",
    "        [0.0040],\n",
    "        [0.0040],\n",
    "        [0.0040],\n",
    "        [0.0040], # POS_50_59_CP\n",
    "        [0.0300], # POS_60_69_CP\n",
    "        [0.0300],\n",
    "        [0.0300],\n",
    "        [0.0300]\n",
    "], dtype=torch.float64)\n",
    "coef"
   ]
  },
  {
   "cell_type": "code",
   "execution_count": 4,
   "id": "229f256a-9496-43df-81d1-41596839a3a1",
   "metadata": {},
   "outputs": [],
   "source": [
    "if torch.cuda.is_available():\n",
    "    trainX.to(\"cuda\")\n",
    "    trainY.to(\"cuda\")\n",
    "    testX.to(\"cuda\")\n",
    "    testY.to(\"cuda\")\n",
    "    coef.to(\"cuda\")"
   ]
  },
  {
   "cell_type": "code",
   "execution_count": 5,
   "id": "23e44b95-fd5a-4f78-b599-ad82f18b561c",
   "metadata": {},
   "outputs": [
    {
     "data": {
      "text/plain": [
       "9.844"
      ]
     },
     "execution_count": 5,
     "metadata": {},
     "output_type": "execute_result"
    }
   ],
   "source": [
    "(testX[0] @ coef).item()"
   ]
  },
  {
   "cell_type": "markdown",
   "id": "0d0cb7ff-b1d1-495f-b063-f963bccc858b",
   "metadata": {},
   "source": [
    "# Part 2: R^2 Score"
   ]
  },
  {
   "cell_type": "code",
   "execution_count": 6,
   "id": "a82e9b29-1697-409e-91f3-6c5141f1b416",
   "metadata": {},
   "outputs": [],
   "source": [
    "predictedY = testX @ coef"
   ]
  },
  {
   "cell_type": "code",
   "execution_count": 7,
   "id": "8a5b5260-f46d-4060-a592-ce7e8ba3f351",
   "metadata": {},
   "outputs": [],
   "source": [
    "def r2_score(test, predicted):\n",
    "    mean = torch.mean(test)\n",
    "    SStot = torch.sum((test - mean)**2) \n",
    "    SSreg = torch.sum((test - predicted)**2)\n",
    "    improvement = SStot - SSreg\n",
    "    return improvement/SStot"
   ]
  },
  {
   "cell_type": "code",
   "execution_count": 8,
   "id": "c896d1d3-fd93-4620-8f5c-8b042a976a4f",
   "metadata": {},
   "outputs": [
    {
     "data": {
      "text/plain": [
       "tensor(0.4110, dtype=torch.float64)"
      ]
     },
     "execution_count": 8,
     "metadata": {},
     "output_type": "execute_result"
    }
   ],
   "source": [
    "r2_score(testY, predictedY)"
   ]
  },
  {
   "cell_type": "markdown",
   "id": "b6cc8c00-f191-4268-af12-d2c3dd94683a",
   "metadata": {},
   "source": [
    "# Part 3: Optimization"
   ]
  },
  {
   "cell_type": "code",
   "execution_count": 9,
   "id": "42e11d7d-e97b-4058-b6da-bd6b783f3ebc",
   "metadata": {},
   "outputs": [
    {
     "data": {
      "text/plain": [
       "tensor(19., grad_fn=<AddBackward0>)"
      ]
     },
     "execution_count": 9,
     "metadata": {},
     "output_type": "execute_result"
    }
   ],
   "source": [
    "x = torch.tensor(0.0, requires_grad=True)\n",
    "y = x**2 - 8*x + 19\n",
    "y"
   ]
  },
  {
   "cell_type": "code",
   "execution_count": 10,
   "id": "261074e9-2063-4241-85df-ca460f70df95",
   "metadata": {},
   "outputs": [],
   "source": [
    "optimizer = torch.optim.SGD([x], lr=0.1)"
   ]
  },
  {
   "cell_type": "code",
   "execution_count": 11,
   "id": "08fef182-866f-441a-820b-26fe1f13f441",
   "metadata": {},
   "outputs": [
    {
     "name": "stdout",
     "output_type": "stream",
     "text": [
      "tensor(0.8000, requires_grad=True) tensor(19., grad_fn=<AddBackward0>)\n",
      "tensor(1.4400, requires_grad=True) tensor(13.2400, grad_fn=<AddBackward0>)\n",
      "tensor(1.9520, requires_grad=True) tensor(9.5536, grad_fn=<AddBackward0>)\n",
      "tensor(2.3616, requires_grad=True) tensor(7.1943, grad_fn=<AddBackward0>)\n",
      "tensor(2.6893, requires_grad=True) tensor(5.6844, grad_fn=<AddBackward0>)\n",
      "tensor(2.9514, requires_grad=True) tensor(4.7180, grad_fn=<AddBackward0>)\n",
      "tensor(3.1611, requires_grad=True) tensor(4.0995, grad_fn=<AddBackward0>)\n",
      "tensor(3.3289, requires_grad=True) tensor(3.7037, grad_fn=<AddBackward0>)\n",
      "tensor(3.4631, requires_grad=True) tensor(3.4504, grad_fn=<AddBackward0>)\n",
      "tensor(3.5705, requires_grad=True) tensor(3.2882, grad_fn=<AddBackward0>)\n",
      "tensor(3.6564, requires_grad=True) tensor(3.1845, grad_fn=<AddBackward0>)\n",
      "tensor(3.7251, requires_grad=True) tensor(3.1181, grad_fn=<AddBackward0>)\n",
      "tensor(3.7801, requires_grad=True) tensor(3.0756, grad_fn=<AddBackward0>)\n",
      "tensor(3.8241, requires_grad=True) tensor(3.0484, grad_fn=<AddBackward0>)\n",
      "tensor(3.8593, requires_grad=True) tensor(3.0309, grad_fn=<AddBackward0>)\n",
      "tensor(3.8874, requires_grad=True) tensor(3.0198, grad_fn=<AddBackward0>)\n",
      "tensor(3.9099, requires_grad=True) tensor(3.0127, grad_fn=<AddBackward0>)\n",
      "tensor(3.9279, requires_grad=True) tensor(3.0081, grad_fn=<AddBackward0>)\n",
      "tensor(3.9424, requires_grad=True) tensor(3.0052, grad_fn=<AddBackward0>)\n",
      "tensor(3.9539, requires_grad=True) tensor(3.0033, grad_fn=<AddBackward0>)\n",
      "tensor(3.9631, requires_grad=True) tensor(3.0021, grad_fn=<AddBackward0>)\n",
      "tensor(3.9705, requires_grad=True) tensor(3.0014, grad_fn=<AddBackward0>)\n",
      "tensor(3.9764, requires_grad=True) tensor(3.0009, grad_fn=<AddBackward0>)\n",
      "tensor(3.9811, requires_grad=True) tensor(3.0006, grad_fn=<AddBackward0>)\n",
      "tensor(3.9849, requires_grad=True) tensor(3.0004, grad_fn=<AddBackward0>)\n",
      "tensor(3.9879, requires_grad=True) tensor(3.0002, grad_fn=<AddBackward0>)\n",
      "tensor(3.9903, requires_grad=True) tensor(3.0001, grad_fn=<AddBackward0>)\n",
      "tensor(3.9923, requires_grad=True) tensor(3.0001, grad_fn=<AddBackward0>)\n",
      "tensor(3.9938, requires_grad=True) tensor(3.0001, grad_fn=<AddBackward0>)\n",
      "tensor(3.9950, requires_grad=True) tensor(3.0000, grad_fn=<AddBackward0>)\n"
     ]
    }
   ],
   "source": [
    "for i in range(30):\n",
    "    optimizer.zero_grad()\n",
    "    y = x**2 - 8*x + 19\n",
    "    y.backward()\n",
    "    optimizer.step()\n",
    "    print(x, y)"
   ]
  },
  {
   "cell_type": "code",
   "execution_count": 12,
   "id": "d52bfe48-2088-40c6-9a3a-3921ad85aa4d",
   "metadata": {},
   "outputs": [
    {
     "data": {
      "text/plain": [
       "3.9950480461120605"
      ]
     },
     "execution_count": 12,
     "metadata": {},
     "output_type": "execute_result"
    }
   ],
   "source": [
    "x.item()"
   ]
  },
  {
   "cell_type": "code",
   "execution_count": 13,
   "id": "af7ab292-af8e-4740-915d-ec3fd652eb74",
   "metadata": {},
   "outputs": [
    {
     "data": {
      "text/plain": [
       "<function matplotlib.pyplot.show(close=None, block=None)>"
      ]
     },
     "execution_count": 13,
     "metadata": {},
     "output_type": "execute_result"
    },
    {
     "data": {
      "image/png": "[encoded data removed]",
      "text/plain": [
       "<Figure size 640x480 with 1 Axes>"
      ]
     },
     "metadata": {},
     "output_type": "display_data"
    }
   ],
   "source": [
    "x = torch.arange(-5, 8, 0.1)\n",
    "y = x**2 - 8*x + 19\n",
    "plot(x, y)\n",
    "show"
   ]
  },
  {
   "cell_type": "markdown",
   "id": "3b72336a-4114-41b7-8546-b6b228e4e8c2",
   "metadata": {},
   "source": [
    "# Part 4: Linear Regression"
   ]
  },
  {
   "cell_type": "code",
   "execution_count": 14,
   "id": "086bb785-86b8-44c2-8fa0-d2feafdec973",
   "metadata": {},
   "outputs": [],
   "source": [
    "train = torch.utils.data.TensorDataset(trainX, trainY)\n",
    "loader = torch.utils.data.DataLoader(train, shuffle = True, batch_size = 10)\n",
    "model = torch.nn.Linear(10, 1, dtype = torch.float64)\n",
    "optimizer = torch.optim.SGD(model.parameters(), lr=0.000001)\n",
    "criterion = torch.nn.MSELoss() \n",
    "epochs = 100"
   ]
  },
  {
   "cell_type": "code",
   "execution_count": 15,
   "id": "d9ffc359-13ab-40d7-a216-d8e19d37c052",
   "metadata": {},
   "outputs": [],
   "source": [
    "start = time()\n",
    "for epoch in range(epochs):\n",
    "    for data in loader:\n",
    "        optimizer.zero_grad()\n",
    "        inputs, labels = data\n",
    "        outputs = model(inputs)\n",
    "        loss = criterion(outputs, labels)\n",
    "        loss.backward()\n",
    "        optimizer.step()\n",
    "end  = time()"
   ]
  },
  {
   "cell_type": "code",
   "execution_count": 16,
   "id": "e54f6c31-cd44-4008-acaf-896d29ae2f90",
   "metadata": {},
   "outputs": [
    {
     "data": {
      "text/plain": [
       "tensor(0.5599, dtype=torch.float64, grad_fn=<DivBackward0>)"
      ]
     },
     "execution_count": 16,
     "metadata": {},
     "output_type": "execute_result"
    }
   ],
   "source": [
    "predictedY = model(testX)\n",
    "r2_score(testY, predictedY)"
   ]
  },
  {
   "cell_type": "code",
   "execution_count": 17,
   "id": "36302fda-842d-497c-b968-56203e279869",
   "metadata": {},
   "outputs": [
    {
     "name": "stdout",
     "output_type": "stream",
     "text": [
      "3.4374377727508545\n"
     ]
    }
   ],
   "source": [
    "print((end - start))"
   ]
  },
  {
   "cell_type": "code",
   "execution_count": 18,
   "id": "6327b2f4-e828-48da-b13e-39b9aa947954",
   "metadata": {},
   "outputs": [
    {
     "data": {
      "image/png": "[encoded data removed]",
      "text/plain": [
       "<Figure size 640x480 with 1 Axes>"
      ]
     },
     "metadata": {},
     "output_type": "display_data"
    }
   ],
   "source": [
    "weight = model.weight.detach()[0]\n",
    "bar(df.columns[:-1], weight)\n",
    "tick_params(axis='x', rotation=45)"
   ]
  },
  {
   "cell_type": "code",
   "execution_count": null,
   "id": "31ccabdf-814d-4aa7-b27e-15ac16c505e4",
   "metadata": {},
   "outputs": [],
   "source": []
  }
 ],
 "metadata": {
  "kernelspec": {
   "display_name": "Python 3 (ipykernel)",
   "language": "python",
   "name": "python3"
  },
  "language_info": {
   "codemirror_mode": {
    "name": "ipython",
    "version": 3
   },
   "file_extension": ".py",
   "mimetype": "text/x-python",
   "name": "python",
   "nbconvert_exporter": "python",
   "pygments_lexer": "ipython3",
   "version": "3.10.6"
  }
 },
 "nbformat": 4,
 "nbformat_minor": 5
}
