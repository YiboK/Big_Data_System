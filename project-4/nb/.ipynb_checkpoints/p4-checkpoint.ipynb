{
 "cells": [
  {
   "cell_type": "markdown",
   "id": "45d70565-68dc-48fa-9a1a-c501c21c9809",
   "metadata": {},
   "source": [
    "# Part 1: Data Setup"
   ]
  },
  {
   "cell_type": "code",
   "execution_count": 1,
   "id": "274db2c6-bd13-4861-a484-4f7c5c15b700",
   "metadata": {},
   "outputs": [
    {
     "name": "stderr",
     "output_type": "stream",
     "text": [
      "Using Spark's default log4j profile: org/apache/spark/log4j-defaults.properties\n",
      "Setting default log level to \"WARN\".\n",
      "To adjust logging level use sc.setLogLevel(newLevel). For SparkR, use setLogLevel(newLevel).\n",
      "23/03/28 04:31:50 WARN NativeCodeLoader: Unable to load native-hadoop library for your platform... using builtin-java classes where applicable\n"
     ]
    }
   ],
   "source": [
    "from pyspark.sql import SparkSession\n",
    "import time\n",
    "import pandas as pd\n",
    "import matplotlib.pyplot as plt\n",
    "import requests\n",
    "spark = (SparkSession.builder.appName(\"cs544\")\n",
    "         .master(\"spark://main:7077\")\n",
    "         .config(\"spark.executor.memory\", \"512M\")\n",
    "         .config(\"spark.sql.warehouse.dir\", \"hdfs://main:9000/user/hive/warehouse\")\n",
    "         .enableHiveSupport()\n",
    "         .getOrCreate())"
   ]
  },
  {
   "cell_type": "code",
   "execution_count": 2,
   "id": "4a0350dc-22c1-4a0d-94c8-d7b8ca0745d2",
   "metadata": {},
   "outputs": [
    {
     "name": "stdout",
     "output_type": "stream",
     "text": [
      "--2023-03-28 04:32:02--  https://pages.cs.wisc.edu/~harter/cs639/data/hdma-wi-2021.zip\n",
      "Resolving pages.cs.wisc.edu (pages.cs.wisc.edu)... 128.105.7.9\n",
      "Connecting to pages.cs.wisc.edu (pages.cs.wisc.edu)|128.105.7.9|:443... connected.\n",
      "HTTP request sent, awaiting response... 200 OK\n",
      "Length: 21494278 (20M) [application/zip]\n",
      "Saving to: ‘hdma-wi-2021.zip’\n",
      "\n",
      "hdma-wi-2021.zip    100%[===================>]  20.50M  16.8MB/s    in 1.2s    \n",
      "\n",
      "2023-03-28 04:32:04 (16.8 MB/s) - ‘hdma-wi-2021.zip’ saved [21494278/21494278]\n",
      "\n",
      "--2023-03-28 04:32:04--  https://pages.cs.wisc.edu/~harter/cs639/data/arid2017_to_lei_xref_csv.zip\n",
      "Resolving pages.cs.wisc.edu (pages.cs.wisc.edu)... 128.105.7.9\n",
      "Connecting to pages.cs.wisc.edu (pages.cs.wisc.edu)|128.105.7.9|:443... connected.\n",
      "HTTP request sent, awaiting response... 200 OK\n",
      "Length: 144804 (141K) [application/zip]\n",
      "Saving to: ‘arid2017_to_lei_xref_csv.zip’\n",
      "\n",
      "arid2017_to_lei_xre 100%[===================>] 141.41K  --.-KB/s    in 0.07s   \n",
      "\n",
      "2023-03-28 04:32:04 (1.87 MB/s) - ‘arid2017_to_lei_xref_csv.zip’ saved [144804/144804]\n",
      "\n",
      "--2023-03-28 04:32:04--  https://pages.cs.wisc.edu/~harter/cs639/data/code_sheets.zip\n",
      "Resolving pages.cs.wisc.edu (pages.cs.wisc.edu)... 128.105.7.9\n",
      "Connecting to pages.cs.wisc.edu (pages.cs.wisc.edu)|128.105.7.9|:443... connected.\n",
      "HTTP request sent, awaiting response... 200 OK\n",
      "Length: 798030 (779K) [application/zip]\n",
      "Saving to: ‘code_sheets.zip’\n",
      "\n",
      "code_sheets.zip     100%[===================>] 779.33K  --.-KB/s    in 0.1s    \n",
      "\n",
      "2023-03-28 04:32:04 (6.06 MB/s) - ‘code_sheets.zip’ saved [798030/798030]\n",
      "\n"
     ]
    }
   ],
   "source": [
    "!wget https://pages.cs.wisc.edu/~harter/cs639/data/hdma-wi-2021.zip\n",
    "!wget https://pages.cs.wisc.edu/~harter/cs639/data/arid2017_to_lei_xref_csv.zip\n",
    "!wget https://pages.cs.wisc.edu/~harter/cs639/data/code_sheets.zip"
   ]
  },
  {
   "cell_type": "code",
   "execution_count": 3,
   "id": "2322c601-0a8d-4fea-aafc-0eeb9c5ab027",
   "metadata": {},
   "outputs": [
    {
     "name": "stdout",
     "output_type": "stream",
     "text": [
      "Archive:  code_sheets.zip\n",
      "  inflating: code_sheets/action_taken.csv  \n",
      "  inflating: code_sheets/agency.csv  \n",
      "  inflating: code_sheets/counties.csv  \n",
      "  inflating: code_sheets/denial_reason.csv  \n",
      "  inflating: code_sheets/edit_status.csv  \n",
      "  inflating: code_sheets/ethnicity.csv  \n",
      "  inflating: code_sheets/hoepa.csv   \n",
      "  inflating: code_sheets/lien_status.csv  \n",
      "  inflating: code_sheets/loan_purpose.csv  \n",
      "  inflating: code_sheets/loan_type.csv  \n",
      "  inflating: code_sheets/msamd.csv   \n",
      "  inflating: code_sheets/owner_occupancy.csv  \n",
      "  inflating: code_sheets/preapproval.csv  \n",
      "  inflating: code_sheets/property_type.csv  \n",
      "  inflating: code_sheets/purchaser_type.csv  \n",
      "  inflating: code_sheets/race.csv    \n",
      "  inflating: code_sheets/sex.csv     \n",
      "  inflating: code_sheets/states.csv  \n",
      "  inflating: code_sheets/tracts.csv  \n",
      "Archive:  arid2017_to_lei_xref_csv.zip\n",
      "  inflating: arid2017_to_lei_xref_csv/arid2017_to_lei_xref_csv.csv  \n",
      "Archive:  hdma-wi-2021.zip\n",
      "  inflating: hdma-wi-2021/hdma-wi-2021.csv  \n"
     ]
    }
   ],
   "source": [
    "!unzip code_sheets.zip -d code_sheets\n",
    "!unzip arid2017_to_lei_xref_csv.zip -d arid2017_to_lei_xref_csv\n",
    "!unzip hdma-wi-2021.zip -d hdma-wi-2021"
   ]
  },
  {
   "cell_type": "code",
   "execution_count": 4,
   "id": "db1df041-940e-4621-b4f1-03b03aedd33c",
   "metadata": {},
   "outputs": [],
   "source": [
    "!hdfs dfs -cp code_sheets hdfs://main:9000/code_sheets\n",
    "!hdfs dfs -cp hdma-wi-2021 hdfs://main:9000/hdma-wi-2021\n",
    "!hdfs dfs -cp arid2017_to_lei_xref_csv hdfs://main:9000/arid2017_to_lei_xref_csv"
   ]
  },
  {
   "cell_type": "code",
   "execution_count": 5,
   "id": "40b9a264-694c-4c98-8cd2-ccf1642b4238",
   "metadata": {},
   "outputs": [
    {
     "name": "stderr",
     "output_type": "stream",
     "text": [
      "                                                                                \r"
     ]
    }
   ],
   "source": [
    "for name in [ \"ethnicity\", \"race\", \"sex\", \"states\", \"counties\", \"tracts\", \"action_taken\", \"denial_reason\", \"loan_type\", \"loan_purpose\", \"preapproval\", \"property_type\"]:\n",
    "    df = spark.read.format(\"csv\").option(\"header\", True).option(\"inferSchema\", True).load(f\"hdfs://main:9000/code_sheets/{name}.csv\")\n",
    "    df.createOrReplaceTempView(name)"
   ]
  },
  {
   "cell_type": "code",
   "execution_count": 6,
   "id": "30fa91a9-1091-4156-b49b-4051101f6c7c",
   "metadata": {},
   "outputs": [
    {
     "name": "stderr",
     "output_type": "stream",
     "text": [
      "23/03/28 04:32:51 WARN HiveConf: HiveConf of name hive.stats.jdbc.timeout does not exist\n",
      "23/03/28 04:32:51 WARN HiveConf: HiveConf of name hive.stats.retries.wait does not exist\n",
      "23/03/28 04:32:55 WARN ObjectStore: Version information not found in metastore. hive.metastore.schema.verification is not enabled so recording the schema version 2.3.0\n",
      "23/03/28 04:32:55 WARN ObjectStore: setMetaStoreSchemaVersion called but recording version is disabled: version = 2.3.0, comment = Set by MetaStore UNKNOWN@172.20.0.3\n",
      "23/03/28 04:32:56 WARN ObjectStore: Failed to get database global_temp, returning NoSuchObjectException\n",
      "23/03/28 04:32:56 WARN HadoopFSUtils: The directory hdfs://main:9000/user/hive/warehouse/banks was not found. Was it deleted very recently?\n",
      "23/03/28 04:32:57 WARN FileUtils: File does not exist: hdfs://main:9000/user/hive/warehouse/banks; Force to delete it.\n",
      "23/03/28 04:32:57 ERROR FileUtils: Failed to delete hdfs://main:9000/user/hive/warehouse/banks\n",
      "23/03/28 04:33:00 WARN SessionState: METASTORE_FILTER_HOOK will be ignored, since hive.security.authorization.manager is set to instance of HiveAuthorizerFactory.\n",
      "23/03/28 04:33:00 WARN HiveConf: HiveConf of name hive.internal.ss.authz.settings.applied.marker does not exist\n",
      "23/03/28 04:33:00 WARN HiveConf: HiveConf of name hive.stats.jdbc.timeout does not exist\n",
      "23/03/28 04:33:00 WARN HiveConf: HiveConf of name hive.stats.retries.wait does not exist\n",
      "23/03/28 04:33:09 WARN HadoopFSUtils: The directory hdfs://main:9000/user/hive/warehouse/loans was not found. Was it deleted very recently?\n",
      "23/03/28 04:33:09 WARN FileUtils: File does not exist: hdfs://main:9000/user/hive/warehouse/loans; Force to delete it.\n",
      "23/03/28 04:33:09 ERROR FileUtils: Failed to delete hdfs://main:9000/user/hive/warehouse/loans\n",
      "23/03/28 04:33:09 WARN package: Truncated the string representation of a plan since it was too large. This behavior can be adjusted by setting 'spark.sql.debug.maxToStringFields'.\n",
      "                                                                                \r"
     ]
    }
   ],
   "source": [
    "df = spark.read.format(\"csv\").option(\"header\", True).option(\"inferSchema\", True).load(\"hdfs://main:9000/arid2017_to_lei_xref_csv/arid2017_to_lei_xref_csv.csv\")\n",
    "df.write.saveAsTable(\"banks\", mode=\"overwrite\")\n",
    "spark.read.csv(f\"hdfs://main:9000/hdma-wi-2021/hdma-wi-2021.csv\", header=True, inferSchema=True).write.bucketBy(8, \"county_code\").saveAsTable(\"loans\", mode=\"overwrite\")"
   ]
  },
  {
   "cell_type": "code",
   "execution_count": 7,
   "id": "e8ecad62-a9b3-4bd1-95ae-53612b10b5a7",
   "metadata": {},
   "outputs": [
    {
     "name": "stdout",
     "output_type": "stream",
     "text": [
      "+---------+-------------+-----------+\n",
      "|namespace|    tableName|isTemporary|\n",
      "+---------+-------------+-----------+\n",
      "|  default|        banks|      false|\n",
      "|  default|        loans|      false|\n",
      "|         | action_taken|       true|\n",
      "|         |     counties|       true|\n",
      "|         |denial_reason|       true|\n",
      "|         |    ethnicity|       true|\n",
      "|         | loan_purpose|       true|\n",
      "|         |    loan_type|       true|\n",
      "|         |  preapproval|       true|\n",
      "|         |property_type|       true|\n",
      "|         |         race|       true|\n",
      "|         |          sex|       true|\n",
      "|         |       states|       true|\n",
      "|         |       tracts|       true|\n",
      "+---------+-------------+-----------+\n",
      "\n"
     ]
    }
   ],
   "source": [
    "# Q1\n",
    "spark.sql(\"SHOW TABLES\").show()"
   ]
  },
  {
   "cell_type": "markdown",
   "id": "bb4d6106-f34a-4361-b0ad-f04b24e00595",
   "metadata": {},
   "source": [
    "# Part 2: Filter and Join"
   ]
  },
  {
   "cell_type": "code",
   "execution_count": 8,
   "id": "e136cee1-0f08-425e-b4ff-95fc18641957",
   "metadata": {},
   "outputs": [
    {
     "name": "stderr",
     "output_type": "stream",
     "text": [
      "                                                                                \r"
     ]
    },
    {
     "name": "stdout",
     "output_type": "stream",
     "text": [
      "Number of banks containing the word 'first' in their name: 525\n"
     ]
    },
    {
     "data": {
      "text/html": [
       "<div>\n",
       "<style scoped>\n",
       "    .dataframe tbody tr th:only-of-type {\n",
       "        vertical-align: middle;\n",
       "    }\n",
       "\n",
       "    .dataframe tbody tr th {\n",
       "        vertical-align: top;\n",
       "    }\n",
       "\n",
       "    .dataframe thead th {\n",
       "        text-align: right;\n",
       "    }\n",
       "</style>\n",
       "<table border=\"1\" class=\"dataframe\">\n",
       "  <thead>\n",
       "    <tr style=\"text-align: right;\">\n",
       "      <th></th>\n",
       "      <th>respondent_name</th>\n",
       "      <th>arid_2017</th>\n",
       "      <th>lei_2018</th>\n",
       "      <th>lei_2019</th>\n",
       "      <th>lei_2020</th>\n",
       "    </tr>\n",
       "  </thead>\n",
       "  <tbody>\n",
       "    <tr>\n",
       "      <th>0</th>\n",
       "      <td>Old Second National Bank</td>\n",
       "      <td>14596</td>\n",
       "      <td>B94HV8SXGDD3J5XESU08</td>\n",
       "      <td>B94HV8SXGDD3J5XESU08</td>\n",
       "      <td>B94HV8SXGDD3J5XESU08</td>\n",
       "    </tr>\n",
       "  </tbody>\n",
       "</table>\n",
       "</div>"
      ],
      "text/plain": [
       "            respondent_name arid_2017              lei_2018  \\\n",
       "0  Old Second National Bank     14596  B94HV8SXGDD3J5XESU08   \n",
       "\n",
       "               lei_2019              lei_2020  \n",
       "0  B94HV8SXGDD3J5XESU08  B94HV8SXGDD3J5XESU08  "
      ]
     },
     "execution_count": 8,
     "metadata": {},
     "output_type": "execute_result"
    }
   ],
   "source": [
    "# Q2\n",
    "result = spark.sql(\"\"\"\n",
    "SELECT COUNT(*)\n",
    "FROM banks\n",
    "WHERE LOWER(respondent_name) LIKE '%first%'\n",
    "\"\"\").toPandas()\n",
    "\n",
    "print(\"Number of banks containing the word 'first' in their name:\", result.iloc[0,0])\n",
    "\n",
    "spark.sql(\"\"\"\n",
    "SELECT *\n",
    "FROM banks\n",
    "WHERE LOWER(respondent_name) LIKE '%second%'\n",
    "\"\"\").toPandas()"
   ]
  },
  {
   "cell_type": "code",
   "execution_count": 9,
   "id": "998fd79d-65b4-4f1c-966b-5750a854cf2b",
   "metadata": {},
   "outputs": [
    {
     "name": "stderr",
     "output_type": "stream",
     "text": [
      "                                                                                \r"
     ]
    },
    {
     "data": {
      "text/html": [
       "<div>\n",
       "<style scoped>\n",
       "    .dataframe tbody tr th:only-of-type {\n",
       "        vertical-align: middle;\n",
       "    }\n",
       "\n",
       "    .dataframe tbody tr th {\n",
       "        vertical-align: top;\n",
       "    }\n",
       "\n",
       "    .dataframe thead th {\n",
       "        text-align: right;\n",
       "    }\n",
       "</style>\n",
       "<table border=\"1\" class=\"dataframe\">\n",
       "  <thead>\n",
       "    <tr style=\"text-align: right;\">\n",
       "      <th></th>\n",
       "      <th>count(1)</th>\n",
       "    </tr>\n",
       "  </thead>\n",
       "  <tbody>\n",
       "    <tr>\n",
       "      <th>0</th>\n",
       "      <td>8178</td>\n",
       "    </tr>\n",
       "  </tbody>\n",
       "</table>\n",
       "</div>"
      ],
      "text/plain": [
       "   count(1)\n",
       "0      8178"
      ]
     },
     "execution_count": 9,
     "metadata": {},
     "output_type": "execute_result"
    }
   ],
   "source": [
    "# Q3\n",
    "# My bank name: University of Wisconsin Credit Union\n",
    "results = spark.sql(\"\"\"\n",
    "SELECT COUNT(*)\n",
    "FROM loans\n",
    "INNER JOIN banks ON loans.lei = banks.lei_2020\n",
    "WHERE respondent_name like 'JPMorgan Chase Bank, National Association'\n",
    "\"\"\")\n",
    "results.toPandas()"
   ]
  },
  {
   "cell_type": "code",
   "execution_count": 10,
   "id": "c0d8ea08-3115-4128-ba49-42161d6cc23e",
   "metadata": {},
   "outputs": [
    {
     "name": "stdout",
     "output_type": "stream",
     "text": [
      "== Physical Plan ==\n",
      "AdaptiveSparkPlan (25)\n",
      "+- == Final Plan ==\n",
      "   * HashAggregate (15)\n",
      "   +- ShuffleQueryStage (14)\n",
      "      +- Exchange (13)\n",
      "         +- * HashAggregate (12)\n",
      "            +- * Project (11)\n",
      "               +- * BroadcastHashJoin Inner BuildRight (10)\n",
      "                  :- * Filter (3)\n",
      "                  :  +- * ColumnarToRow (2)\n",
      "                  :     +- Scan parquet default.loans (1)\n",
      "                  +- BroadcastQueryStage (9)\n",
      "                     +- BroadcastExchange (8)\n",
      "                        +- * Project (7)\n",
      "                           +- * Filter (6)\n",
      "                              +- * ColumnarToRow (5)\n",
      "                                 +- Scan parquet default.banks (4)\n",
      "+- == Initial Plan ==\n",
      "   HashAggregate (24)\n",
      "   +- Exchange (23)\n",
      "      +- HashAggregate (22)\n",
      "         +- Project (21)\n",
      "            +- BroadcastHashJoin Inner BuildRight (20)\n",
      "               :- Filter (16)\n",
      "               :  +- Scan parquet default.loans (1)\n",
      "               +- BroadcastExchange (19)\n",
      "                  +- Project (18)\n",
      "                     +- Filter (17)\n",
      "                        +- Scan parquet default.banks (4)\n",
      "\n",
      "\n",
      "(1) Scan parquet default.loans\n",
      "Output [1]: [lei#964]\n",
      "Batched: true\n",
      "Location: InMemoryFileIndex [hdfs://main:9000/user/hive/warehouse/loans]\n",
      "PushedFilters: [IsNotNull(lei)]\n",
      "ReadSchema: struct<lei:string>\n",
      "\n",
      "(2) ColumnarToRow [codegen id : 2]\n",
      "Input [1]: [lei#964]\n",
      "\n",
      "(3) Filter [codegen id : 2]\n",
      "Input [1]: [lei#964]\n",
      "Condition : isnotnull(lei#964)\n",
      "\n",
      "(4) Scan parquet default.banks\n",
      "Output [2]: [respondent_name#948, lei_2020#952]\n",
      "Batched: true\n",
      "Location: InMemoryFileIndex [hdfs://main:9000/user/hive/warehouse/banks]\n",
      "PushedFilters: [IsNotNull(respondent_name), EqualTo(respondent_name,JPMorgan Chase Bank, National Association), IsNotNull(lei_2020)]\n",
      "ReadSchema: struct<respondent_name:string,lei_2020:string>\n",
      "\n",
      "(5) ColumnarToRow [codegen id : 1]\n",
      "Input [2]: [respondent_name#948, lei_2020#952]\n",
      "\n",
      "(6) Filter [codegen id : 1]\n",
      "Input [2]: [respondent_name#948, lei_2020#952]\n",
      "Condition : ((isnotnull(respondent_name#948) AND (respondent_name#948 = JPMorgan Chase Bank, National Association)) AND isnotnull(lei_2020#952))\n",
      "\n",
      "(7) Project [codegen id : 1]\n",
      "Output [1]: [lei_2020#952]\n",
      "Input [2]: [respondent_name#948, lei_2020#952]\n",
      "\n",
      "(8) BroadcastExchange\n",
      "Input [1]: [lei_2020#952]\n",
      "Arguments: HashedRelationBroadcastMode(List(input[0, string, true]),false), [plan_id=464]\n",
      "\n",
      "(9) BroadcastQueryStage\n",
      "Output [1]: [lei_2020#952]\n",
      "Arguments: 0\n",
      "\n",
      "(10) BroadcastHashJoin [codegen id : 2]\n",
      "Left keys [1]: [lei#964]\n",
      "Right keys [1]: [lei_2020#952]\n",
      "Join condition: None\n",
      "\n",
      "(11) Project [codegen id : 2]\n",
      "Output: []\n",
      "Input [2]: [lei#964, lei_2020#952]\n",
      "\n",
      "(12) HashAggregate [codegen id : 2]\n",
      "Input: []\n",
      "Keys: []\n",
      "Functions [1]: [partial_count(1)]\n",
      "Aggregate Attributes [1]: [count#1064L]\n",
      "Results [1]: [count#1065L]\n",
      "\n",
      "(13) Exchange\n",
      "Input [1]: [count#1065L]\n",
      "Arguments: SinglePartition, ENSURE_REQUIREMENTS, [plan_id=522]\n",
      "\n",
      "(14) ShuffleQueryStage\n",
      "Output [1]: [count#1065L]\n",
      "Arguments: 1\n",
      "\n",
      "(15) HashAggregate [codegen id : 3]\n",
      "Input [1]: [count#1065L]\n",
      "Keys: []\n",
      "Functions [1]: [count(1)]\n",
      "Aggregate Attributes [1]: [count(1)#962L]\n",
      "Results [1]: [count(1)#962L AS count(1)#1062L]\n",
      "\n",
      "(16) Filter\n",
      "Input [1]: [lei#964]\n",
      "Condition : isnotnull(lei#964)\n",
      "\n",
      "(17) Filter\n",
      "Input [2]: [respondent_name#948, lei_2020#952]\n",
      "Condition : ((isnotnull(respondent_name#948) AND (respondent_name#948 = JPMorgan Chase Bank, National Association)) AND isnotnull(lei_2020#952))\n",
      "\n",
      "(18) Project\n",
      "Output [1]: [lei_2020#952]\n",
      "Input [2]: [respondent_name#948, lei_2020#952]\n",
      "\n",
      "(19) BroadcastExchange\n",
      "Input [1]: [lei_2020#952]\n",
      "Arguments: HashedRelationBroadcastMode(List(input[0, string, true]),false), [plan_id=433]\n",
      "\n",
      "(20) BroadcastHashJoin\n",
      "Left keys [1]: [lei#964]\n",
      "Right keys [1]: [lei_2020#952]\n",
      "Join condition: None\n",
      "\n",
      "(21) Project\n",
      "Output: []\n",
      "Input [2]: [lei#964, lei_2020#952]\n",
      "\n",
      "(22) HashAggregate\n",
      "Input: []\n",
      "Keys: []\n",
      "Functions [1]: [partial_count(1)]\n",
      "Aggregate Attributes [1]: [count#1064L]\n",
      "Results [1]: [count#1065L]\n",
      "\n",
      "(23) Exchange\n",
      "Input [1]: [count#1065L]\n",
      "Arguments: SinglePartition, ENSURE_REQUIREMENTS, [plan_id=438]\n",
      "\n",
      "(24) HashAggregate\n",
      "Input [1]: [count#1065L]\n",
      "Keys: []\n",
      "Functions [1]: [count(1)]\n",
      "Aggregate Attributes [1]: [count(1)#962L]\n",
      "Results [1]: [count(1)#962L AS count(1)#1062L]\n",
      "\n",
      "(25) AdaptiveSparkPlan\n",
      "Output [1]: [count(1)#1062L]\n",
      "Arguments: isFinalPlan=true\n",
      "\n",
      "\n"
     ]
    }
   ],
   "source": [
    "# Q4\n",
    "# 1. The banks table is sent to every executor \n",
    "# 2. Both the banks and loans\n",
    "# 3. partial_count(1) and count(1)\n",
    "results.explain(\"formatted\")"
   ]
  },
  {
   "cell_type": "code",
   "execution_count": 11,
   "id": "a5dd8f85-0eb1-4971-bb72-06248eb7f6e4",
   "metadata": {},
   "outputs": [
    {
     "name": "stderr",
     "output_type": "stream",
     "text": [
      "                                                                                \r"
     ]
    },
    {
     "data": {
      "text/html": [
       "<div>\n",
       "<style scoped>\n",
       "    .dataframe tbody tr th:only-of-type {\n",
       "        vertical-align: middle;\n",
       "    }\n",
       "\n",
       "    .dataframe tbody tr th {\n",
       "        vertical-align: top;\n",
       "    }\n",
       "\n",
       "    .dataframe thead th {\n",
       "        text-align: right;\n",
       "    }\n",
       "</style>\n",
       "<table border=\"1\" class=\"dataframe\">\n",
       "  <thead>\n",
       "    <tr style=\"text-align: right;\">\n",
       "      <th></th>\n",
       "      <th>census_tract</th>\n",
       "      <th>county</th>\n",
       "      <th>loan_purpose</th>\n",
       "      <th>derived_dwelling_category</th>\n",
       "      <th>thousands</th>\n",
       "      <th>interest_rate</th>\n",
       "      <th>years</th>\n",
       "      <th>action_taken</th>\n",
       "    </tr>\n",
       "  </thead>\n",
       "  <tbody>\n",
       "    <tr>\n",
       "      <th>0</th>\n",
       "      <td>55133203500</td>\n",
       "      <td>Waukesha</td>\n",
       "      <td>None</td>\n",
       "      <td>Single Family (1-4 Units):Site-Built</td>\n",
       "      <td>12915.0</td>\n",
       "      <td>2.75</td>\n",
       "      <td>30.0</td>\n",
       "      <td>Loan originated</td>\n",
       "    </tr>\n",
       "    <tr>\n",
       "      <th>1</th>\n",
       "      <td>55059000100</td>\n",
       "      <td>Kenosha</td>\n",
       "      <td>None</td>\n",
       "      <td>Multifamily:Site-Built</td>\n",
       "      <td>4975.0</td>\n",
       "      <td>3.38</td>\n",
       "      <td>30.0</td>\n",
       "      <td>Loan originated</td>\n",
       "    </tr>\n",
       "    <tr>\n",
       "      <th>2</th>\n",
       "      <td>55079012800</td>\n",
       "      <td>Milwaukee</td>\n",
       "      <td>None</td>\n",
       "      <td>Multifamily:Site-Built</td>\n",
       "      <td>4605.0</td>\n",
       "      <td>3.36</td>\n",
       "      <td>30.0</td>\n",
       "      <td>Loan originated</td>\n",
       "    </tr>\n",
       "    <tr>\n",
       "      <th>3</th>\n",
       "      <td>55127001602</td>\n",
       "      <td>Walworth</td>\n",
       "      <td>None</td>\n",
       "      <td>Single Family (1-4 Units):Site-Built</td>\n",
       "      <td>4555.0</td>\n",
       "      <td>2.75</td>\n",
       "      <td>30.0</td>\n",
       "      <td>Loan originated</td>\n",
       "    </tr>\n",
       "    <tr>\n",
       "      <th>4</th>\n",
       "      <td>55079185400</td>\n",
       "      <td>Milwaukee</td>\n",
       "      <td>None</td>\n",
       "      <td>Multifamily:Site-Built</td>\n",
       "      <td>3625.0</td>\n",
       "      <td>4.94</td>\n",
       "      <td>20.5</td>\n",
       "      <td>Loan originated</td>\n",
       "    </tr>\n",
       "    <tr>\n",
       "      <th>5</th>\n",
       "      <td>55127001602</td>\n",
       "      <td>Walworth</td>\n",
       "      <td>Home purchase</td>\n",
       "      <td>Single Family (1-4 Units):Site-Built</td>\n",
       "      <td>3535.0</td>\n",
       "      <td>2.875</td>\n",
       "      <td>30.0</td>\n",
       "      <td>Loan originated</td>\n",
       "    </tr>\n",
       "    <tr>\n",
       "      <th>6</th>\n",
       "      <td>55133204100</td>\n",
       "      <td>Waukesha</td>\n",
       "      <td>None</td>\n",
       "      <td>Single Family (1-4 Units):Site-Built</td>\n",
       "      <td>3305.0</td>\n",
       "      <td>2.625</td>\n",
       "      <td>30.0</td>\n",
       "      <td>Loan originated</td>\n",
       "    </tr>\n",
       "    <tr>\n",
       "      <th>7</th>\n",
       "      <td>55079019400</td>\n",
       "      <td>Milwaukee</td>\n",
       "      <td>None</td>\n",
       "      <td>Multifamily:Site-Built</td>\n",
       "      <td>3105.0</td>\n",
       "      <td>3.48</td>\n",
       "      <td>25.0</td>\n",
       "      <td>Loan originated</td>\n",
       "    </tr>\n",
       "    <tr>\n",
       "      <th>8</th>\n",
       "      <td>55127001602</td>\n",
       "      <td>Walworth</td>\n",
       "      <td>None</td>\n",
       "      <td>Single Family (1-4 Units):Site-Built</td>\n",
       "      <td>3005.0</td>\n",
       "      <td>3.125</td>\n",
       "      <td>30.0</td>\n",
       "      <td>Loan originated</td>\n",
       "    </tr>\n",
       "    <tr>\n",
       "      <th>9</th>\n",
       "      <td>55133203500</td>\n",
       "      <td>Waukesha</td>\n",
       "      <td>Home purchase</td>\n",
       "      <td>Single Family (1-4 Units):Site-Built</td>\n",
       "      <td>3005.0</td>\n",
       "      <td>2.25</td>\n",
       "      <td>30.0</td>\n",
       "      <td>Loan originated</td>\n",
       "    </tr>\n",
       "  </tbody>\n",
       "</table>\n",
       "</div>"
      ],
      "text/plain": [
       "  census_tract     county   loan_purpose  \\\n",
       "0  55133203500   Waukesha           None   \n",
       "1  55059000100    Kenosha           None   \n",
       "2  55079012800  Milwaukee           None   \n",
       "3  55127001602   Walworth           None   \n",
       "4  55079185400  Milwaukee           None   \n",
       "5  55127001602   Walworth  Home purchase   \n",
       "6  55133204100   Waukesha           None   \n",
       "7  55079019400  Milwaukee           None   \n",
       "8  55127001602   Walworth           None   \n",
       "9  55133203500   Waukesha  Home purchase   \n",
       "\n",
       "              derived_dwelling_category  thousands interest_rate  years  \\\n",
       "0  Single Family (1-4 Units):Site-Built    12915.0          2.75   30.0   \n",
       "1                Multifamily:Site-Built     4975.0          3.38   30.0   \n",
       "2                Multifamily:Site-Built     4605.0          3.36   30.0   \n",
       "3  Single Family (1-4 Units):Site-Built     4555.0          2.75   30.0   \n",
       "4                Multifamily:Site-Built     3625.0          4.94   20.5   \n",
       "5  Single Family (1-4 Units):Site-Built     3535.0         2.875   30.0   \n",
       "6  Single Family (1-4 Units):Site-Built     3305.0         2.625   30.0   \n",
       "7                Multifamily:Site-Built     3105.0          3.48   25.0   \n",
       "8  Single Family (1-4 Units):Site-Built     3005.0         3.125   30.0   \n",
       "9  Single Family (1-4 Units):Site-Built     3005.0          2.25   30.0   \n",
       "\n",
       "      action_taken  \n",
       "0  Loan originated  \n",
       "1  Loan originated  \n",
       "2  Loan originated  \n",
       "3  Loan originated  \n",
       "4  Loan originated  \n",
       "5  Loan originated  \n",
       "6  Loan originated  \n",
       "7  Loan originated  \n",
       "8  Loan originated  \n",
       "9  Loan originated  "
      ]
     },
     "execution_count": 11,
     "metadata": {},
     "output_type": "execute_result"
    }
   ],
   "source": [
    "# Q5\n",
    "spark.sql(\"\"\"\n",
    "SELECT census_tract, county, loan_purpose.loan_purpose, derived_dwelling_category, loan_amount/1000 AS thousands, interest_rate, loan_term/12 AS years, action_taken.action_taken\n",
    "FROM loans\n",
    "INNER JOIN banks ON loans.lei = banks.lei_2020\n",
    "LEFT JOIN loan_purpose ON loans.loan_purpose = loan_purpose.id\n",
    "LEFT JOIN action_taken ON loans.action_taken = action_taken.id\n",
    "LEFT JOIN (\n",
    "    SELECT CONCAT(LPAD(CAST(STATE AS string),2,'0'), LPAD(CAST(COUNTY AS string),3,'0')) AS county_code_2, NAME AS county\n",
    "    FROM (\n",
    "        SELECT DISTINCT STATE, COUNTY, NAME\n",
    "        FROM counties\n",
    "        )\n",
    ") ON loans.county_code = county_code_2\n",
    "WHERE respondent_name LIKE 'JPMorgan Chase Bank, National Association' AND action_taken.action_taken LIKE 'Loan originated'\n",
    "ORDER BY loan_amount DESC\n",
    "LIMIT 10\n",
    "\"\"\").toPandas()"
   ]
  },
  {
   "cell_type": "markdown",
   "id": "ec4d719a-a9ea-428a-9a1a-95b7129074de",
   "metadata": {},
   "source": [
    "# Part 3: GROUPY BY and Windowing"
   ]
  },
  {
   "cell_type": "code",
   "execution_count": 12,
   "id": "97683f42-ccef-460d-8ba5-4e6085121905",
   "metadata": {},
   "outputs": [
    {
     "name": "stdout",
     "output_type": "stream",
     "text": [
      "== Physical Plan ==\n",
      "AdaptiveSparkPlan isFinalPlan=false\n",
      "+- HashAggregate(keys=[loan_purpose#979], functions=[mean(loan_amount#984)])\n",
      "   +- Exchange hashpartitioning(loan_purpose#979, 200), ENSURE_REQUIREMENTS, [plan_id=1116]\n",
      "      +- HashAggregate(keys=[loan_purpose#979], functions=[partial_mean(loan_amount#984)])\n",
      "         +- FileScan parquet default.loans[loan_purpose#979,loan_amount#984] Batched: true, DataFilters: [], Format: Parquet, Location: InMemoryFileIndex(1 paths)[hdfs://main:9000/user/hive/warehouse/loans], PartitionFilters: [], PushedFilters: [], ReadSchema: struct<loan_purpose:int,loan_amount:double>\n",
      "\n",
      "\n",
      "== Physical Plan ==\n",
      "AdaptiveSparkPlan isFinalPlan=false\n",
      "+- HashAggregate(keys=[county_code#967, lei#964], functions=[mean(loan_amount#984)])\n",
      "   +- HashAggregate(keys=[county_code#967, lei#964], functions=[partial_mean(loan_amount#984)])\n",
      "      +- FileScan parquet default.loans[lei#964,county_code#967,loan_amount#984] Batched: true, DataFilters: [], Format: Parquet, Location: InMemoryFileIndex(1 paths)[hdfs://main:9000/user/hive/warehouse/loans], PartitionFilters: [], PushedFilters: [], ReadSchema: struct<lei:string,county_code:string,loan_amount:double>, SelectedBucketsCount: 8 out of 8\n",
      "\n",
      "\n"
     ]
    }
   ],
   "source": [
    "# Q6\n",
    "# The network transfer is necessary for the query that uses \"GROUP BY loan_purpose\", while the other is not.\n",
    "# I think it's because I divided the loans table into 8 buckets by the county_code column when I loaded it.\n",
    "spark.sql(\"\"\"\n",
    "SELECT loan_purpose, MEAN(loan_amount)\n",
    "FROM loans\n",
    "GROUP BY loan_purpose\n",
    "\"\"\").explain()\n",
    "\n",
    "spark.sql(\"\"\"\n",
    "SELECT county_code, lei, MEAN(loan_amount)\n",
    "FROM loans\n",
    "GROUP BY county_code, lei\n",
    "\"\"\").explain()"
   ]
  },
  {
   "cell_type": "code",
   "execution_count": 13,
   "id": "331dba1b-a062-4dc6-967d-b89d966e4ffc",
   "metadata": {},
   "outputs": [
    {
     "name": "stderr",
     "output_type": "stream",
     "text": [
      "                                                                                \r"
     ]
    },
    {
     "data": {
      "image/png": "[encoded data removed]",
      "text/plain": [
       "<Figure size 640x480 with 1 Axes>"
      ]
     },
     "metadata": {},
     "output_type": "display_data"
    }
   ],
   "source": [
    "# Q7\n",
    "df = spark.sql(\"\"\"\n",
    "SELECT county as name, MEAN(interest_rate) AS mean\n",
    "FROM loans\n",
    "INNER JOIN banks ON loans.lei = banks.lei_2020\n",
    "LEFT JOIN (\n",
    "    SELECT CONCAT(LPAD(CAST(STATE AS string),2,'0'), LPAD(CAST(COUNTY AS string),3,'0')) AS county_code_2, NAME AS county\n",
    "    FROM (\n",
    "        SELECT DISTINCT STATE, COUNTY, NAME\n",
    "        FROM counties\n",
    "        )\n",
    ") ON loans.county_code = county_code_2\n",
    "WHERE respondent_name LIKE 'Wells Fargo Bank, National Association'\n",
    "GROUP BY county\n",
    "ORDER BY COUNT(*) DESC\n",
    "LIMIT 10\n",
    "\"\"\").toPandas().set_index('name').plot.bar(legend=None, ylabel = \"Average Interest Rate\")"
   ]
  },
  {
   "cell_type": "code",
   "execution_count": 14,
   "id": "0cc6f81e-05be-49cd-8217-5b5f17506822",
   "metadata": {},
   "outputs": [
    {
     "name": "stderr",
     "output_type": "stream",
     "text": [
      "                                                                                \r"
     ]
    },
    {
     "data": {
      "text/plain": [
       "<Axes: xlabel='name', ylabel='2nd Biggest Loan Application (Millions $)'>"
      ]
     },
     "execution_count": 14,
     "metadata": {},
     "output_type": "execute_result"
    },
    {
     "data": {
      "image/png": "[encoded data removed]",
      "text/plain": [
       "<Figure size 640x480 with 1 Axes>"
      ]
     },
     "metadata": {},
     "output_type": "display_data"
    }
   ],
   "source": [
    "# Q8\n",
    "spark.sql(\"\"\"\n",
    "SELECT DISTINCT county as name,\n",
    "    NTH_VALUE(loan_amount/1000000, 2) OVER (PARTITION BY county ORDER BY loan_amount DESC) as amount \n",
    "FROM loans\n",
    "LEFT JOIN (\n",
    "    SELECT CONCAT(LPAD(CAST(STATE AS string),2,'0'), LPAD(CAST(COUNTY AS string),3,'0')) AS county_code_2, NAME AS county\n",
    "    FROM (\n",
    "        SELECT DISTINCT STATE, COUNTY, NAME\n",
    "        FROM counties\n",
    "        )\n",
    ") ON loans.county_code = county_code_2\n",
    "WHERE county NOT like 'none'\n",
    "ORDER BY amount DESC\n",
    "LIMIT 10\n",
    "\"\"\").toPandas().set_index('name').plot.bar(legend=None, ylabel = \"2nd Biggest Loan Application (Millions $)\")"
   ]
  },
  {
   "cell_type": "code",
   "execution_count": 15,
   "id": "138035b6-0db9-4a7c-b80e-8215f133359a",
   "metadata": {},
   "outputs": [],
   "source": [
    "df = spark.sql(\"\"\" \n",
    "SELECT interest_rate\n",
    "FROM banks\n",
    "INNER JOIN loans\n",
    "ON banks.lei_2020 = loans.lei \n",
    "WHERE banks.respondent_name = 'Wells Fargo Bank, National Association'\n",
    "\"\"\")"
   ]
  },
  {
   "cell_type": "code",
   "execution_count": 16,
   "id": "09f98632-2807-4f5e-b9cc-bcb20dfed646",
   "metadata": {},
   "outputs": [
    {
     "name": "stderr",
     "output_type": "stream",
     "text": [
      "                                                                                \r"
     ]
    },
    {
     "data": {
      "image/png": "[encoded data removed]",
      "text/plain": [
       "<Figure size 640x480 with 1 Axes>"
      ]
     },
     "metadata": {},
     "output_type": "display_data"
    }
   ],
   "source": [
    "# Q9\n",
    "times_df = pd.DataFrame(dtype=float)\n",
    "for i in range(10):\n",
    "    if i == 5:\n",
    "        df.cache()\n",
    "    t0 = time.time()\n",
    "    df.count()\n",
    "    t1 = time.time()\n",
    "    times_df.at[i, \"Milliseconds\"] = (t1 - t0)* 1e3\n",
    "    if i < 5:\n",
    "        times_df.at[i, \"Type\"] = 'No Caching'\n",
    "    else:\n",
    "        times_df.at[i, \"Type\"] = 'Caching'\n",
    "\n",
    "\n",
    "groups = times_df.groupby('Type')\n",
    "fig, ax = plt.subplots()\n",
    "for name, group in groups:\n",
    "    ax.plot(group.index, group['Milliseconds'], label=name)\n",
    "ax.set_xlabel(\"Query Number\")\n",
    "ax.set_ylabel(\"Milliseconds\")\n",
    "ax.legend()\n",
    "plt.show()"
   ]
  },
  {
   "cell_type": "code",
   "execution_count": 21,
   "id": "757f6826-cf02-4fa5-a673-6cb47dbc66ae",
   "metadata": {},
   "outputs": [
    {
     "data": {
      "text/plain": [
       "<Axes: xlabel='Query Number', ylabel='Task Count'>"
      ]
     },
     "execution_count": 21,
     "metadata": {},
     "output_type": "execute_result"
    },
    {
     "data": {
      "image/png": "[encoded data removed]",
      "text/plain": [
       "<Figure size 640x480 with 1 Axes>"
      ]
     },
     "metadata": {},
     "output_type": "display_data"
    }
   ],
   "source": [
    "# Q10\n",
    "tasks_df = pd.DataFrame(dtype=int)\n",
    "df = df.repartition(1)\n",
    "df.cache()\n",
    "r = requests.get(\"http://localhost:4040/api/v1/applications\")\n",
    "r.raise_for_status()\n",
    "app_id = r.json()[0][\"id\"]\n",
    "\n",
    "for i in range(10):\n",
    "    df.count()\n",
    "    r = requests.get(f\"http://localhost:4040/api/v1/applications/{app_id}/executors\")\n",
    "    r.raise_for_status()\n",
    "    tasks_df.at[i, 'exe1'] = r.json()[1]['completedTasks']\n",
    "    tasks_df.at[i, 'exe2'] = r.json()[2]['completedTasks']\n",
    "\n",
    "tasks_df.plot.line(legend=None, xlabel = \"Query Number\", ylabel = \"Task Count\")"
   ]
  },
  {
   "cell_type": "code",
   "execution_count": null,
   "id": "b8a48423-4066-4315-a3e2-3813f7f546d7",
   "metadata": {},
   "outputs": [],
   "source": []
  }
 ],
 "metadata": {
  "kernelspec": {
   "display_name": "Python 3 (ipykernel)",
   "language": "python",
   "name": "python3"
  },
  "language_info": {
   "codemirror_mode": {
    "name": "ipython",
    "version": 3
   },
   "file_extension": ".py",
   "mimetype": "text/x-python",
   "name": "python",
   "nbconvert_exporter": "python",
   "pygments_lexer": "ipython3",
   "version": "3.10.6"
  }
 },
 "nbformat": 4,
 "nbformat_minor": 5
}
